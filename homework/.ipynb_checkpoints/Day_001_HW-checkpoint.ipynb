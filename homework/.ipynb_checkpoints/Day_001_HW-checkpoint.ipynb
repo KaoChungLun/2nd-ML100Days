{
 "cells": [
  {
   "cell_type": "markdown",
   "metadata": {},
   "source": [
    "作業一\n",
    "\n",
    "我選了 Datasets 裡的 Google Play Store Apps \n",
    "    1.我認為清楚的知道目前民眾們對於APP的需求對於研發APP的人來說是個非常重要的方向，隨著行動裝置的普及APP能夠涉略到的方向也就很多，對於未來而言行動裝置與APP會與我們的生活密不可分，這組 Datasets 給我們的資訊也非常齊全其中包括類型、大小、被下載的次數、免費或付費、年齡限制、最後一次更新時間以及適用的最低 Android 版本。\n",
    "    2.此資料由一名資料分析工程師在 Kaggle 上面的 Datasets 分享，其主要用的技術並沒有詳述只有說明是 Web Scraping。\n",
    "    3.下載下來的檔案則是一 CSV 檔\n",
    "    4.從這個資料上我們可以分析出很多類似於哪種年齡層的用戶最愛下載哪種類型的APP，植入廣告時應當植入適當的廣告，該APP占用的容量大小以及系統版本又會不會影響安裝次數，將付費內容限制在APP裡面效益好不好，諸如此類的結果可以讓正在設計APP的設計師能夠更清楚如何討好消費者以獲取最大利潤。\n",
    "\n",
    "作業二\n",
    "\n",
    "   1.\n",
    "   提升業績:對公司的淨收益上升，就是提升業績\n",
    "\n",
    "   假設優惠方案或是合作方案能夠影響到顧客的乘車率，若我在熱門電影上檔期間與電影院合作讓乘客享有看電影的優惠，能夠讓顧客乘車意願上升，或在某時段搭車能享有優惠，或是給予便民服務開放悠遊卡以及信用卡消費服務，以及載具維修地點的合作，保險公司合作，載具外觀作為廣告用途等等。\n",
    "   \n",
    "   2.\n",
    "   將上檔電影期間的載客率與平常時段作比對或是顧客使用該優惠的比率高低，司機保養比率在該合作廠商的比率，收集資料的方式或許需要投資一點資本在上面例如另開一個優惠給民眾填問券，或是直接找合作廠商要資料等等。\n",
    "   \n",
    "   3.\n",
    "   對於蒐集資料的型態我並沒有一個清楚的概念希望能有人能夠提供資料方便了解。\n",
    "   \n",
    "   4.\n",
    "   若證明乘車比率確實在提供優惠以後有一定幅度的上升或是使更多司機願意加入該車隊，讓車隊的營收有明顯提升，那我們就可以說該方法確實有效。"
   ]
  },
  {
   "cell_type": "code",
   "execution_count": null,
   "metadata": {},
   "outputs": [],
   "source": []
  }
 ],
 "metadata": {
  "kernelspec": {
   "display_name": "Python 3",
   "language": "python",
   "name": "python3"
  },
  "language_info": {
   "codemirror_mode": {
    "name": "ipython",
    "version": 3
   },
   "file_extension": ".py",
   "mimetype": "text/x-python",
   "name": "python",
   "nbconvert_exporter": "python",
   "pygments_lexer": "ipython3",
   "version": "3.7.3"
  }
 },
 "nbformat": 4,
 "nbformat_minor": 2
}
